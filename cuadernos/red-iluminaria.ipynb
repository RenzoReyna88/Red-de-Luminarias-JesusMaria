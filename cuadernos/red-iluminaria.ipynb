{
 "cells": [
  {
   "cell_type": "code",
   "execution_count": 1,
   "id": "e74fcf79",
   "metadata": {},
   "outputs": [],
   "source": [
    "import geopandas as gpd"
   ]
  },
  {
   "cell_type": "code",
   "execution_count": 5,
   "id": "c842ad02",
   "metadata": {},
   "outputs": [],
   "source": [
    "file_path = gpd.read_file(\"datos-iluminaria/Jesus_Maria_Luminarias_Apostacion.geojson\")"
   ]
  },
  {
   "cell_type": "markdown",
   "id": "3b894412",
   "metadata": {},
   "source": [
    "### Exploración de datos de apostación de ilumniarias en la ciudad de Jesús María"
   ]
  },
  {
   "cell_type": "code",
   "execution_count": 6,
   "id": "86405416",
   "metadata": {},
   "outputs": [
    {
     "data": {
      "text/html": [
       "<div>\n",
       "<style scoped>\n",
       "    .dataframe tbody tr th:only-of-type {\n",
       "        vertical-align: middle;\n",
       "    }\n",
       "\n",
       "    .dataframe tbody tr th {\n",
       "        vertical-align: top;\n",
       "    }\n",
       "\n",
       "    .dataframe thead th {\n",
       "        text-align: right;\n",
       "    }\n",
       "</style>\n",
       "<table border=\"1\" class=\"dataframe\">\n",
       "  <thead>\n",
       "    <tr style=\"text-align: right;\">\n",
       "      <th></th>\n",
       "      <th>valorunico</th>\n",
       "      <th>tipo</th>\n",
       "      <th>idtipo</th>\n",
       "      <th>id</th>\n",
       "      <th>geometry</th>\n",
       "    </tr>\n",
       "  </thead>\n",
       "  <tbody>\n",
       "    <tr>\n",
       "      <th>0</th>\n",
       "      <td>3389</td>\n",
       "      <td>SODIO</td>\n",
       "      <td>2</td>\n",
       "      <td>1</td>\n",
       "      <td>POINT (4394435.569 6573172.597)</td>\n",
       "    </tr>\n",
       "    <tr>\n",
       "      <th>1</th>\n",
       "      <td>3390</td>\n",
       "      <td>SODIO</td>\n",
       "      <td>2</td>\n",
       "      <td>2</td>\n",
       "      <td>POINT (4394382.49 6573160.727)</td>\n",
       "    </tr>\n",
       "    <tr>\n",
       "      <th>2</th>\n",
       "      <td>3391</td>\n",
       "      <td>SODIO</td>\n",
       "      <td>2</td>\n",
       "      <td>3</td>\n",
       "      <td>POINT (4394337.103 6573139.48)</td>\n",
       "    </tr>\n",
       "    <tr>\n",
       "      <th>3</th>\n",
       "      <td>3392</td>\n",
       "      <td>SODIO</td>\n",
       "      <td>2</td>\n",
       "      <td>4</td>\n",
       "      <td>POINT (4394304.902 6573129.708)</td>\n",
       "    </tr>\n",
       "    <tr>\n",
       "      <th>4</th>\n",
       "      <td>3393</td>\n",
       "      <td>LED</td>\n",
       "      <td>1</td>\n",
       "      <td>5</td>\n",
       "      <td>POINT (4394999.387 6572966.102)</td>\n",
       "    </tr>\n",
       "  </tbody>\n",
       "</table>\n",
       "</div>"
      ],
      "text/plain": [
       "  valorunico   tipo  idtipo  id                         geometry\n",
       "0       3389  SODIO       2   1  POINT (4394435.569 6573172.597)\n",
       "1       3390  SODIO       2   2   POINT (4394382.49 6573160.727)\n",
       "2       3391  SODIO       2   3   POINT (4394337.103 6573139.48)\n",
       "3       3392  SODIO       2   4  POINT (4394304.902 6573129.708)\n",
       "4       3393    LED       1   5  POINT (4394999.387 6572966.102)"
      ]
     },
     "execution_count": 6,
     "metadata": {},
     "output_type": "execute_result"
    }
   ],
   "source": [
    "file_path.head()"
   ]
  },
  {
   "cell_type": "code",
   "execution_count": 7,
   "id": "592c4b49",
   "metadata": {},
   "outputs": [
    {
     "name": "stdout",
     "output_type": "stream",
     "text": [
      "<class 'geopandas.geodataframe.GeoDataFrame'>\n",
      "RangeIndex: 3306 entries, 0 to 3305\n",
      "Data columns (total 5 columns):\n",
      " #   Column      Non-Null Count  Dtype   \n",
      "---  ------      --------------  -----   \n",
      " 0   valorunico  3306 non-null   object  \n",
      " 1   tipo        3306 non-null   object  \n",
      " 2   idtipo      3306 non-null   int32   \n",
      " 3   id          3306 non-null   int32   \n",
      " 4   geometry    3306 non-null   geometry\n",
      "dtypes: geometry(1), int32(2), object(2)\n",
      "memory usage: 103.4+ KB\n"
     ]
    }
   ],
   "source": [
    "file_path.info()"
   ]
  },
  {
   "cell_type": "code",
   "execution_count": 9,
   "id": "8713e9c3",
   "metadata": {},
   "outputs": [
    {
     "data": {
      "text/plain": [
       "tipo\n",
       "SODIO                      1733\n",
       "LED                        1507\n",
       "POSTACION SIN ALUMBRADO      66\n",
       "Name: count, dtype: int64"
      ]
     },
     "execution_count": 9,
     "metadata": {},
     "output_type": "execute_result"
    }
   ],
   "source": [
    "file_path.value_counts(\"tipo\")"
   ]
  },
  {
   "cell_type": "code",
   "execution_count": 12,
   "id": "f08b9b65",
   "metadata": {},
   "outputs": [],
   "source": [
    "file_path_2 = gpd.read_file(\"datos-iluminaria/Jesus_Maria_Luminarias_Red.geojson\")"
   ]
  },
  {
   "cell_type": "code",
   "execution_count": 14,
   "id": "b241a088",
   "metadata": {},
   "outputs": [
    {
     "data": {
      "text/html": [
       "<div>\n",
       "<style scoped>\n",
       "    .dataframe tbody tr th:only-of-type {\n",
       "        vertical-align: middle;\n",
       "    }\n",
       "\n",
       "    .dataframe tbody tr th {\n",
       "        vertical-align: top;\n",
       "    }\n",
       "\n",
       "    .dataframe thead th {\n",
       "        text-align: right;\n",
       "    }\n",
       "</style>\n",
       "<table border=\"1\" class=\"dataframe\">\n",
       "  <thead>\n",
       "    <tr style=\"text-align: right;\">\n",
       "      <th></th>\n",
       "      <th>id</th>\n",
       "      <th>qc_id</th>\n",
       "      <th>tipo</th>\n",
       "      <th>dstipo</th>\n",
       "      <th>geometry</th>\n",
       "    </tr>\n",
       "  </thead>\n",
       "  <tbody>\n",
       "    <tr>\n",
       "      <th>0</th>\n",
       "      <td>1</td>\n",
       "      <td>357</td>\n",
       "      <td>2</td>\n",
       "      <td>SODIO</td>\n",
       "      <td>MULTILINESTRING ((4395567.692 6571787.741, 439...</td>\n",
       "    </tr>\n",
       "    <tr>\n",
       "      <th>1</th>\n",
       "      <td>2</td>\n",
       "      <td>358</td>\n",
       "      <td>2</td>\n",
       "      <td>SODIO</td>\n",
       "      <td>MULTILINESTRING ((4395735.232 6571867.008, 439...</td>\n",
       "    </tr>\n",
       "    <tr>\n",
       "      <th>2</th>\n",
       "      <td>3</td>\n",
       "      <td>1</td>\n",
       "      <td>2</td>\n",
       "      <td>SODIO</td>\n",
       "      <td>MULTILINESTRING ((4394637.985 6573456.512, 439...</td>\n",
       "    </tr>\n",
       "    <tr>\n",
       "      <th>3</th>\n",
       "      <td>4</td>\n",
       "      <td>2</td>\n",
       "      <td>2</td>\n",
       "      <td>SODIO</td>\n",
       "      <td>MULTILINESTRING ((4394679.157 6573411.48, 4394...</td>\n",
       "    </tr>\n",
       "    <tr>\n",
       "      <th>4</th>\n",
       "      <td>5</td>\n",
       "      <td>32</td>\n",
       "      <td>2</td>\n",
       "      <td>SODIO</td>\n",
       "      <td>MULTILINESTRING ((4394759.757 6573496.031, 439...</td>\n",
       "    </tr>\n",
       "  </tbody>\n",
       "</table>\n",
       "</div>"
      ],
      "text/plain": [
       "   id  qc_id  tipo dstipo                                           geometry\n",
       "0   1    357     2  SODIO  MULTILINESTRING ((4395567.692 6571787.741, 439...\n",
       "1   2    358     2  SODIO  MULTILINESTRING ((4395735.232 6571867.008, 439...\n",
       "2   3      1     2  SODIO  MULTILINESTRING ((4394637.985 6573456.512, 439...\n",
       "3   4      2     2  SODIO  MULTILINESTRING ((4394679.157 6573411.48, 4394...\n",
       "4   5     32     2  SODIO  MULTILINESTRING ((4394759.757 6573496.031, 439..."
      ]
     },
     "execution_count": 14,
     "metadata": {},
     "output_type": "execute_result"
    }
   ],
   "source": [
    "file_path_2.head()"
   ]
  },
  {
   "cell_type": "code",
   "execution_count": 16,
   "id": "b4c9471f",
   "metadata": {},
   "outputs": [
    {
     "name": "stdout",
     "output_type": "stream",
     "text": [
      "<class 'geopandas.geodataframe.GeoDataFrame'>\n",
      "RangeIndex: 411 entries, 0 to 410\n",
      "Data columns (total 5 columns):\n",
      " #   Column    Non-Null Count  Dtype   \n",
      "---  ------    --------------  -----   \n",
      " 0   id        411 non-null    int32   \n",
      " 1   qc_id     411 non-null    int32   \n",
      " 2   tipo      411 non-null    int32   \n",
      " 3   dstipo    411 non-null    object  \n",
      " 4   geometry  411 non-null    geometry\n",
      "dtypes: geometry(1), int32(3), object(1)\n",
      "memory usage: 11.4+ KB\n"
     ]
    }
   ],
   "source": [
    "file_path_2.info()"
   ]
  },
  {
   "cell_type": "code",
   "execution_count": 17,
   "id": "9935cb1e",
   "metadata": {},
   "outputs": [
    {
     "data": {
      "text/plain": [
       "tipo\n",
       "2    271\n",
       "1    137\n",
       "4      3\n",
       "Name: count, dtype: int64"
      ]
     },
     "execution_count": 17,
     "metadata": {},
     "output_type": "execute_result"
    }
   ],
   "source": [
    "file_path_2.value_counts(\"tipo\")"
   ]
  },
  {
   "cell_type": "code",
   "execution_count": 18,
   "id": "a64c9ce2",
   "metadata": {},
   "outputs": [
    {
     "data": {
      "text/plain": [
       "id          0\n",
       "qc_id       0\n",
       "tipo        0\n",
       "dstipo      0\n",
       "geometry    0\n",
       "dtype: int64"
      ]
     },
     "execution_count": 18,
     "metadata": {},
     "output_type": "execute_result"
    }
   ],
   "source": [
    "file_path_2.isna().sum()"
   ]
  }
 ],
 "metadata": {
  "kernelspec": {
   "display_name": "red-luz",
   "language": "python",
   "name": "python3"
  },
  "language_info": {
   "codemirror_mode": {
    "name": "ipython",
    "version": 3
   },
   "file_extension": ".py",
   "mimetype": "text/x-python",
   "name": "python",
   "nbconvert_exporter": "python",
   "pygments_lexer": "ipython3",
   "version": "3.10.6"
  }
 },
 "nbformat": 4,
 "nbformat_minor": 5
}
